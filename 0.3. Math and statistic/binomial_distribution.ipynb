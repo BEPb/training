{
 "cells": [
  {
   "cell_type": "markdown",
   "metadata": {},
   "source": [
    "# Пример биномиального распределения\n",
    "\n",
    "В эксперименте подбрасываем монетку определенное количество раз. Хотим построить распределение вероятности выпадения орла"
   ]
  },
  {
   "cell_type": "code",
   "execution_count": 9,
   "metadata": {
    "collapsed": true
   },
   "outputs": [],
   "source": [
    "import numpy as np\n",
    "import matplotlib.pyplot as plt"
   ]
  },
  {
   "cell_type": "code",
   "execution_count": 2,
   "metadata": {
    "collapsed": true
   },
   "outputs": [],
   "source": [
    "# сколько раз бросаем монетку\n",
    "attemptsNumber = 20\n",
    "\n",
    "# вероятность \"успеха\" - выпадения орла\n",
    "p = 0.5"
   ]
  },
  {
   "cell_type": "markdown",
   "metadata": {},
   "source": [
    "\\begin{equation*}\n",
    "\\LARGE\n",
    "P(k) = \\frac{n!}{(n-k)! k!} \\space p^k q^{n-k} \\\\\n",
    "\\LARGE\n",
    "k = 1, ..., n\n",
    "\\end{equation*}"
   ]
  },
  {
   "cell_type": "code",
   "execution_count": 3,
   "metadata": {
    "collapsed": true
   },
   "outputs": [],
   "source": [
    "probabilityValues = []"
   ]
  },
  {
   "cell_type": "code",
   "execution_count": 7,
   "metadata": {
    "collapsed": false
   },
   "outputs": [
    {
     "name": "stdout",
     "output_type": "stream",
     "text": [
      "Значение для k = 1: 9.5367431640625e-07\n",
      "Значение для k = 2: 1.9073486328125e-05\n",
      "Значение для k = 3: 0.0001811981201171875\n",
      "Значение для k = 4: 0.001087188720703125\n",
      "Значение для k = 5: 0.004620552062988281\n",
      "Значение для k = 6: 0.0147857666015625\n",
      "Значение для k = 7: 0.03696441650390625\n",
      "Значение для k = 8: 0.0739288330078125\n",
      "Значение для k = 9: 0.12013435363769531\n",
      "Значение для k = 10: 0.16017913818359375\n",
      "Значение для k = 11: 0.17619705200195312\n",
      "Значение для k = 12: 0.16017913818359375\n",
      "Значение для k = 13: 0.12013435363769531\n",
      "Значение для k = 14: 0.0739288330078125\n",
      "Значение для k = 15: 0.03696441650390625\n",
      "Значение для k = 16: 0.0147857666015625\n",
      "Значение для k = 17: 0.004620552062988281\n",
      "Значение для k = 18: 0.001087188720703125\n",
      "Значение для k = 19: 0.0001811981201171875\n",
      "Значение для k = 20: 1.9073486328125e-05\n"
     ]
    }
   ],
   "source": [
    "for k in range( 0, attemptsNumber ):\n",
    "    probabilityValue = np.math.factorial( attemptsNumber ) * p**k * (1-p)**(attemptsNumber - k) / np.math.factorial( attemptsNumber - k ) / np.math.factorial( k )\n",
    "    \n",
    "    probabilityValues.append( probabilityValue )\n",
    "    print( 'Значение для k = {}: {}'.format( k + 1, probabilityValue ) )\n",
    "    "
   ]
  },
  {
   "cell_type": "code",
   "execution_count": 8,
   "metadata": {
    "collapsed": false
   },
   "outputs": [
    {
     "data": {
      "text/plain": [
       "[9.5367431640625e-07,\n",
       " 1.9073486328125e-05,\n",
       " 0.0001811981201171875,\n",
       " 0.001087188720703125,\n",
       " 0.004620552062988281,\n",
       " 0.0147857666015625,\n",
       " 0.03696441650390625,\n",
       " 0.0739288330078125,\n",
       " 0.12013435363769531,\n",
       " 0.16017913818359375,\n",
       " 0.17619705200195312,\n",
       " 0.16017913818359375,\n",
       " 0.12013435363769531,\n",
       " 0.0739288330078125,\n",
       " 0.03696441650390625,\n",
       " 0.0147857666015625,\n",
       " 0.004620552062988281,\n",
       " 0.001087188720703125,\n",
       " 0.0001811981201171875,\n",
       " 1.9073486328125e-05]"
      ]
     },
     "execution_count": 8,
     "metadata": {},
     "output_type": "execute_result"
    }
   ],
   "source": [
    "probabilityValues"
   ]
  },
  {
   "cell_type": "code",
   "execution_count": 10,
   "metadata": {
    "collapsed": false
   },
   "outputs": [
    {
     "data": {
      "image/png": "[encoded data removed]",
      "text/plain": [
       "<matplotlib.figure.Figure at 0xff082aa470>"
      ]
     },
     "metadata": {},
     "output_type": "display_data"
    }
   ],
   "source": [
    "plt.plot( probabilityValues )\n",
    "plt.show()"
   ]
  },
  {
   "cell_type": "code",
   "execution_count": 11,
   "metadata": {
    "collapsed": false
   },
   "outputs": [
    {
     "data": {
      "text/plain": [
       "0.9999990463256836"
      ]
     },
     "execution_count": 11,
     "metadata": {},
     "output_type": "execute_result"
    }
   ],
   "source": [
    "sum( probabilityValues )"
   ]
  }
 ],
 "metadata": {
  "kernelspec": {
   "display_name": "Python 3",
   "language": "python",
   "name": "python3"
  },
  "language_info": {
   "codemirror_mode": {
    "name": "ipython",
    "version": 3
   },
   "file_extension": ".py",
   "mimetype": "text/x-python",
   "name": "python",
   "nbconvert_exporter": "python",
   "pygments_lexer": "ipython3",
   "version": "3.6.0"
  }
 },
 "nbformat": 4,
 "nbformat_minor": 2
}
