{
 "cells": [
  {
   "cell_type": "markdown",
   "metadata": {},
   "source": [
    "## Часть примеров, которые разбирали 6 октября"
   ]
  },
  {
   "cell_type": "markdown",
   "metadata": {},
   "source": [
    "Shift + Enter - выполнить код в ячейке и перейти на следующую\n",
    "\n",
    "Ctrl + Enter - выполнить и остаться"
   ]
  },
  {
   "cell_type": "code",
   "execution_count": 1,
   "metadata": {},
   "outputs": [],
   "source": [
    "# длинные переменные и названия функций можно записывать разными способами\n",
    "\n",
    "snake_case_integer = 5"
   ]
  },
  {
   "cell_type": "code",
   "execution_count": 2,
   "metadata": {},
   "outputs": [
    {
     "data": {
      "text/plain": [
       "int"
      ]
     },
     "execution_count": 2,
     "metadata": {},
     "output_type": "execute_result"
    }
   ],
   "source": [
    "# пользуйтесь табуляцией для автозаполнения длинных названий\n",
    "\n",
    "type( snake_case_integer )"
   ]
  },
  {
   "cell_type": "code",
   "execution_count": 3,
   "metadata": {},
   "outputs": [],
   "source": [
    "camelCaseString = 'строка из слов'"
   ]
  },
  {
   "cell_type": "code",
   "execution_count": 4,
   "metadata": {},
   "outputs": [
    {
     "data": {
      "text/plain": [
       "str"
      ]
     },
     "execution_count": 4,
     "metadata": {},
     "output_type": "execute_result"
    }
   ],
   "source": [
    "type( camelCaseString )"
   ]
  },
  {
   "cell_type": "code",
   "execution_count": 5,
   "metadata": {},
   "outputs": [
    {
     "data": {
      "text/plain": [
       "'с'"
      ]
     },
     "execution_count": 5,
     "metadata": {},
     "output_type": "execute_result"
    }
   ],
   "source": [
    "# первый элемент всегда имеет номер 0\n",
    "# например, первая буква слова\n",
    "\n",
    "camelCaseString[0]"
   ]
  },
  {
   "cell_type": "code",
   "execution_count": 6,
   "metadata": {},
   "outputs": [],
   "source": [
    "# разделитель - точка\n",
    "\n",
    "floatNumber = 3.14"
   ]
  },
  {
   "cell_type": "markdown",
   "metadata": {},
   "source": [
    "## Работа с листами"
   ]
  },
  {
   "cell_type": "code",
   "execution_count": 7,
   "metadata": {},
   "outputs": [],
   "source": [
    "justNumbers = [ 4, 1, 13, 0, 6 ]"
   ]
  },
  {
   "cell_type": "code",
   "execution_count": 8,
   "metadata": {},
   "outputs": [
    {
     "data": {
      "text/plain": [
       "5"
      ]
     },
     "execution_count": 8,
     "metadata": {},
     "output_type": "execute_result"
    }
   ],
   "source": [
    "len( justNumbers ) # количество элементов в списке"
   ]
  },
  {
   "cell_type": "code",
   "execution_count": 9,
   "metadata": {},
   "outputs": [
    {
     "data": {
      "text/plain": [
       "24"
      ]
     },
     "execution_count": 9,
     "metadata": {},
     "output_type": "execute_result"
    }
   ],
   "source": [
    "sum( justNumbers ) # сумма элементов"
   ]
  },
  {
   "cell_type": "code",
   "execution_count": 10,
   "metadata": {},
   "outputs": [
    {
     "data": {
      "text/plain": [
       "[0, 1, 4, 6, 13]"
      ]
     },
     "execution_count": 10,
     "metadata": {},
     "output_type": "execute_result"
    }
   ],
   "source": [
    "sorted( justNumbers ) # сортировка"
   ]
  },
  {
   "cell_type": "code",
   "execution_count": 11,
   "metadata": {},
   "outputs": [
    {
     "data": {
      "text/plain": [
       "[13, 6, 4, 1, 0]"
      ]
     },
     "execution_count": 11,
     "metadata": {},
     "output_type": "execute_result"
    }
   ],
   "source": [
    "sorted( justNumbers, reverse = True ) # сортировка в обратном порядке"
   ]
  },
  {
   "cell_type": "code",
   "execution_count": 12,
   "metadata": {},
   "outputs": [
    {
     "data": {
      "text/plain": [
       "[4, 1, 13, 0, 6, 55]"
      ]
     },
     "execution_count": 12,
     "metadata": {},
     "output_type": "execute_result"
    }
   ],
   "source": [
    "justNumbers.append( 55 ) # добавление элемента\n",
    "justNumbers"
   ]
  },
  {
   "cell_type": "markdown",
   "metadata": {},
   "source": [
    "Будьте внимательны при изменении листов\n",
    "\n",
    "В примере ниже переменная justNumbers и copyNumbers на самом деле указывают на один и тот же объект. В результате, при добавлении в copyNumbers очередного элемента этот элемент добавляется и в исходном листе justNumbers"
   ]
  },
  {
   "cell_type": "code",
   "execution_count": 13,
   "metadata": {},
   "outputs": [],
   "source": [
    "copyNumbers = justNumbers\n",
    "copyNumbers.append( 66 )"
   ]
  },
  {
   "cell_type": "code",
   "execution_count": 14,
   "metadata": {},
   "outputs": [
    {
     "data": {
      "text/plain": [
       "[4, 1, 13, 0, 6, 55, 66]"
      ]
     },
     "execution_count": 14,
     "metadata": {},
     "output_type": "execute_result"
    }
   ],
   "source": [
    "justNumbers"
   ]
  },
  {
   "cell_type": "code",
   "execution_count": 15,
   "metadata": {},
   "outputs": [
    {
     "data": {
      "text/plain": [
       "1371555455232"
      ]
     },
     "execution_count": 15,
     "metadata": {},
     "output_type": "execute_result"
    }
   ],
   "source": [
    "id( justNumbers )"
   ]
  },
  {
   "cell_type": "code",
   "execution_count": 16,
   "metadata": {},
   "outputs": [
    {
     "data": {
      "text/plain": [
       "1371555455232"
      ]
     },
     "execution_count": 16,
     "metadata": {},
     "output_type": "execute_result"
    }
   ],
   "source": [
    "id( copyNumbers )"
   ]
  },
  {
   "cell_type": "code",
   "execution_count": 17,
   "metadata": {},
   "outputs": [],
   "source": [
    "justNumbers = [ 4, 1, 13, 0, 6, 55 ]"
   ]
  },
  {
   "cell_type": "code",
   "execution_count": 18,
   "metadata": {},
   "outputs": [],
   "source": [
    "import copy"
   ]
  },
  {
   "cell_type": "code",
   "execution_count": 19,
   "metadata": {},
   "outputs": [],
   "source": [
    "copyNumbers = copy.copy( justNumbers )\n",
    "copyNumbers.append( 66 )"
   ]
  },
  {
   "cell_type": "code",
   "execution_count": 20,
   "metadata": {},
   "outputs": [
    {
     "data": {
      "text/plain": [
       "1371555597568"
      ]
     },
     "execution_count": 20,
     "metadata": {},
     "output_type": "execute_result"
    }
   ],
   "source": [
    "id( justNumbers )"
   ]
  },
  {
   "cell_type": "code",
   "execution_count": 21,
   "metadata": {},
   "outputs": [
    {
     "data": {
      "text/plain": [
       "1371555602624"
      ]
     },
     "execution_count": 21,
     "metadata": {},
     "output_type": "execute_result"
    }
   ],
   "source": [
    "id( copyNumbers )"
   ]
  },
  {
   "cell_type": "code",
   "execution_count": 22,
   "metadata": {},
   "outputs": [
    {
     "data": {
      "text/plain": [
       "[4, 1, 13, 0, 6, 55]"
      ]
     },
     "execution_count": 22,
     "metadata": {},
     "output_type": "execute_result"
    }
   ],
   "source": [
    "justNumbers"
   ]
  },
  {
   "cell_type": "code",
   "execution_count": 23,
   "metadata": {},
   "outputs": [
    {
     "data": {
      "text/plain": [
       "[4, 1, 13, 0, 6, 55, 66]"
      ]
     },
     "execution_count": 23,
     "metadata": {},
     "output_type": "execute_result"
    }
   ],
   "source": [
    "copyNumbers"
   ]
  },
  {
   "cell_type": "markdown",
   "metadata": {},
   "source": [
    "**Вывод части листа**"
   ]
  },
  {
   "cell_type": "code",
   "execution_count": 35,
   "metadata": {},
   "outputs": [],
   "source": [
    "sequence = [ 'Первый', 'Второй', 'Третий', 'Четвертый', 'Пятый' ]"
   ]
  },
  {
   "cell_type": "code",
   "execution_count": 36,
   "metadata": {},
   "outputs": [
    {
     "name": "stdout",
     "output_type": "stream",
     "text": [
      "['Третий']\n"
     ]
    }
   ],
   "source": [
    "print( sequence[2:3] )"
   ]
  },
  {
   "cell_type": "code",
   "execution_count": 37,
   "metadata": {},
   "outputs": [
    {
     "name": "stdout",
     "output_type": "stream",
     "text": [
      "Третий\n"
     ]
    }
   ],
   "source": [
    "print( sequence[2] )"
   ]
  },
  {
   "cell_type": "code",
   "execution_count": 38,
   "metadata": {},
   "outputs": [
    {
     "name": "stdout",
     "output_type": "stream",
     "text": [
      "<class 'list'>\n"
     ]
    }
   ],
   "source": [
    "print( type(sequence[2:3]  ) )"
   ]
  },
  {
   "cell_type": "code",
   "execution_count": 39,
   "metadata": {},
   "outputs": [
    {
     "name": "stdout",
     "output_type": "stream",
     "text": [
      "<class 'str'>\n"
     ]
    }
   ],
   "source": [
    "print( type(sequence[2]  ) )"
   ]
  },
  {
   "cell_type": "code",
   "execution_count": 40,
   "metadata": {},
   "outputs": [
    {
     "name": "stdout",
     "output_type": "stream",
     "text": [
      "['Первый', 'Второй', 'Третий']\n"
     ]
    }
   ],
   "source": [
    "print( sequence[:3] )"
   ]
  },
  {
   "cell_type": "code",
   "execution_count": 41,
   "metadata": {},
   "outputs": [
    {
     "name": "stdout",
     "output_type": "stream",
     "text": [
      "Пятый\n"
     ]
    }
   ],
   "source": [
    "print( sequence[-1] )"
   ]
  },
  {
   "cell_type": "code",
   "execution_count": 42,
   "metadata": {},
   "outputs": [
    {
     "name": "stdout",
     "output_type": "stream",
     "text": [
      "['Четвертый', 'Пятый']\n"
     ]
    }
   ],
   "source": [
    "print( sequence[-2:] )"
   ]
  },
  {
   "cell_type": "code",
   "execution_count": 43,
   "metadata": {},
   "outputs": [
    {
     "data": {
      "text/plain": [
       "'Первый,Второй,Третий,Четвертый,Пятый'"
      ]
     },
     "execution_count": 43,
     "metadata": {},
     "output_type": "execute_result"
    }
   ],
   "source": [
    "','.join( sequence )"
   ]
  },
  {
   "cell_type": "markdown",
   "metadata": {},
   "source": [
    "**List comprehension**"
   ]
  },
  {
   "cell_type": "code",
   "execution_count": 44,
   "metadata": {},
   "outputs": [],
   "source": [
    "# Дана последовательность чисел. Мы хотим оставить только те, что делятся на 5\n",
    "sequence = range( 0, 40, 3 )"
   ]
  },
  {
   "cell_type": "code",
   "execution_count": 45,
   "metadata": {},
   "outputs": [
    {
     "name": "stdout",
     "output_type": "stream",
     "text": [
      "0\n",
      "15\n",
      "30\n"
     ]
    }
   ],
   "source": [
    "# решение в лоб\n",
    "for num in sequence:\n",
    "    if num % 5 == 0:\n",
    "        print( num )"
   ]
  },
  {
   "cell_type": "code",
   "execution_count": 46,
   "metadata": {},
   "outputs": [
    {
     "name": "stdout",
     "output_type": "stream",
     "text": [
      "[0, 15, 30]\n"
     ]
    }
   ],
   "source": [
    "# если хотим получить отфильтрованный лист, то будет даже так\n",
    "filteredSequence = []\n",
    "\n",
    "for num in sequence:\n",
    "    if num % 5 == 0:\n",
    "        filteredSequence.append( num )\n",
    "\n",
    "print( filteredSequence )"
   ]
  },
  {
   "cell_type": "code",
   "execution_count": 47,
   "metadata": {},
   "outputs": [
    {
     "name": "stdout",
     "output_type": "stream",
     "text": [
      "[0, 15, 30]\n"
     ]
    }
   ],
   "source": [
    "# с list comprehension получается покороче\n",
    "\n",
    "print( [ x for x in sequence if x % 5 == 0 ] )"
   ]
  },
  {
   "cell_type": "markdown",
   "metadata": {},
   "source": [
    "### Map и lambda-функции"
   ]
  },
  {
   "cell_type": "code",
   "execution_count": 48,
   "metadata": {},
   "outputs": [],
   "source": [
    "nums = [ 1, 2, 3, 4, 5 ]"
   ]
  },
  {
   "cell_type": "code",
   "execution_count": 49,
   "metadata": {},
   "outputs": [
    {
     "data": {
      "text/plain": [
       "[1, 4, 9, 16, 25]"
      ]
     },
     "execution_count": 49,
     "metadata": {},
     "output_type": "execute_result"
    }
   ],
   "source": [
    "list( map( lambda x: x**2, nums ) )"
   ]
  },
  {
   "cell_type": "code",
   "execution_count": 50,
   "metadata": {},
   "outputs": [],
   "source": [
    "def square( x ):\n",
    "    return x**2"
   ]
  },
  {
   "cell_type": "code",
   "execution_count": 51,
   "metadata": {},
   "outputs": [
    {
     "data": {
      "text/plain": [
       "[1, 4, 9, 16, 25]"
      ]
     },
     "execution_count": 51,
     "metadata": {},
     "output_type": "execute_result"
    }
   ],
   "source": [
    "list( map( square, nums ) )"
   ]
  },
  {
   "cell_type": "code",
   "execution_count": 52,
   "metadata": {},
   "outputs": [],
   "source": [
    "def cube( x ):\n",
    "    return x**3"
   ]
  },
  {
   "cell_type": "code",
   "execution_count": 53,
   "metadata": {},
   "outputs": [
    {
     "name": "stdout",
     "output_type": "stream",
     "text": [
      "[1, 1]\n",
      "[4, 8]\n",
      "[9, 27]\n",
      "[16, 64]\n",
      "[25, 125]\n"
     ]
    }
   ],
   "source": [
    "for i in range( len( nums ) ):\n",
    "    print( list( map( lambda x: x( nums[ i ] ), [ square, cube ] ) ) )"
   ]
  },
  {
   "cell_type": "markdown",
   "metadata": {},
   "source": [
    "### reduce"
   ]
  },
  {
   "cell_type": "code",
   "execution_count": 54,
   "metadata": {},
   "outputs": [],
   "source": [
    "from functools import reduce"
   ]
  },
  {
   "cell_type": "code",
   "execution_count": 55,
   "metadata": {},
   "outputs": [
    {
     "data": {
      "text/plain": [
       "15"
      ]
     },
     "execution_count": 55,
     "metadata": {},
     "output_type": "execute_result"
    }
   ],
   "source": [
    "reduce( lambda x, y: x + y, [ 1, 2, 3, 4, 5 ] )"
   ]
  },
  {
   "cell_type": "code",
   "execution_count": null,
   "metadata": {},
   "outputs": [],
   "source": []
  },
  {
   "cell_type": "code",
   "execution_count": 56,
   "metadata": {},
   "outputs": [
    {
     "data": {
      "text/plain": [
       "120"
      ]
     },
     "execution_count": 56,
     "metadata": {},
     "output_type": "execute_result"
    }
   ],
   "source": [
    "reduce( lambda x, y: x * y, [ 1, 2, 3, 4, 5 ] )"
   ]
  },
  {
   "cell_type": "markdown",
   "metadata": {},
   "source": [
    "## Словари"
   ]
  },
  {
   "cell_type": "code",
   "execution_count": 57,
   "metadata": {},
   "outputs": [],
   "source": [
    "stats = {\n",
    "    '2017-05-01': 100,\n",
    "    '2017-05-02': 101,\n",
    "    '2017-05-03': 102\n",
    "}"
   ]
  },
  {
   "cell_type": "code",
   "execution_count": 58,
   "metadata": {},
   "outputs": [
    {
     "name": "stdout",
     "output_type": "stream",
     "text": [
      "100\n"
     ]
    }
   ],
   "source": [
    "# обращение к элементу словаря\n",
    "print( stats['2017-05-01'] )"
   ]
  },
  {
   "cell_type": "code",
   "execution_count": 59,
   "metadata": {},
   "outputs": [
    {
     "name": "stdout",
     "output_type": "stream",
     "text": [
      "2017-05-01 100\n",
      "2017-05-02 101\n",
      "2017-05-03 102\n"
     ]
    }
   ],
   "source": [
    "# пройтись по элементам словаря\n",
    "for key, value in stats.items():\n",
    "    print( key, value )"
   ]
  },
  {
   "cell_type": "code",
   "execution_count": 60,
   "metadata": {},
   "outputs": [
    {
     "name": "stdout",
     "output_type": "stream",
     "text": [
      "3\n"
     ]
    }
   ],
   "source": [
    "# количество ключей\n",
    "print( len( stats ) )"
   ]
  },
  {
   "cell_type": "code",
   "execution_count": 61,
   "metadata": {},
   "outputs": [
    {
     "name": "stdout",
     "output_type": "stream",
     "text": [
      "{'2017-05-01': 100, '2017-05-02': 101, '2017-05-03': 102, '2017-05-04': 103}\n"
     ]
    }
   ],
   "source": [
    "# проверка на наличие ключа в словаре\n",
    "newDate = '2017-05-04'\n",
    "newDateValue = 103\n",
    "\n",
    "if newDate in stats:\n",
    "    print( 'Ok' )\n",
    "    \n",
    "else:\n",
    "    stats[ newDate ] = newDateValue\n",
    "\n",
    "print( stats )"
   ]
  },
  {
   "cell_type": "markdown",
   "metadata": {},
   "source": [
    "#### Копирование словарей"
   ]
  },
  {
   "cell_type": "code",
   "execution_count": 62,
   "metadata": {},
   "outputs": [],
   "source": [
    "newStatsDict = stats"
   ]
  },
  {
   "cell_type": "code",
   "execution_count": 63,
   "metadata": {},
   "outputs": [
    {
     "name": "stdout",
     "output_type": "stream",
     "text": [
      "{'2017-05-01': 100, '2017-05-02': 101, '2017-05-03': 102, '2017-05-04': 103, '2017-05-05': 200}\n"
     ]
    }
   ],
   "source": [
    "newStatsDict['2017-05-05'] = 200\n",
    "print( stats )"
   ]
  },
  {
   "cell_type": "code",
   "execution_count": 64,
   "metadata": {},
   "outputs": [],
   "source": [
    "stats = {\n",
    "    '2017-05-01': 100,\n",
    "    '2017-05-02': 101,\n",
    "    '2017-05-03': 102\n",
    "}"
   ]
  },
  {
   "cell_type": "code",
   "execution_count": 65,
   "metadata": {},
   "outputs": [],
   "source": [
    "newStatsDict = stats.copy()"
   ]
  },
  {
   "cell_type": "code",
   "execution_count": 66,
   "metadata": {},
   "outputs": [
    {
     "name": "stdout",
     "output_type": "stream",
     "text": [
      "{'2017-05-01': 100, '2017-05-02': 101, '2017-05-03': 102}\n"
     ]
    }
   ],
   "source": [
    "newStatsDict['2017-05-05'] = 200\n",
    "print( stats )"
   ]
  },
  {
   "cell_type": "code",
   "execution_count": 67,
   "metadata": {},
   "outputs": [
    {
     "name": "stdout",
     "output_type": "stream",
     "text": [
      "2017-05-01\n",
      "2017-05-02\n",
      "2017-05-03\n"
     ]
    }
   ],
   "source": [
    "# проходим по ключам\n",
    "for key in stats.keys():\n",
    "    print( key )"
   ]
  },
  {
   "cell_type": "code",
   "execution_count": 68,
   "metadata": {},
   "outputs": [
    {
     "name": "stdout",
     "output_type": "stream",
     "text": [
      "100\n",
      "101\n",
      "102\n"
     ]
    }
   ],
   "source": [
    "# проходим по значениям\n",
    "for value in stats.values():\n",
    "    print( value )"
   ]
  },
  {
   "cell_type": "code",
   "execution_count": 69,
   "metadata": {},
   "outputs": [],
   "source": [
    "newData = {\n",
    "    '2017-05-02': 999\n",
    "}"
   ]
  },
  {
   "cell_type": "code",
   "execution_count": 70,
   "metadata": {},
   "outputs": [
    {
     "name": "stdout",
     "output_type": "stream",
     "text": [
      "{'2017-05-01': 100, '2017-05-02': 999, '2017-05-03': 102}\n"
     ]
    }
   ],
   "source": [
    "stats.update( newData )\n",
    "print( stats )"
   ]
  },
  {
   "cell_type": "markdown",
   "metadata": {},
   "source": [
    "#### Словари и листы"
   ]
  },
  {
   "cell_type": "code",
   "execution_count": 71,
   "metadata": {},
   "outputs": [],
   "source": [
    "test = [ 1, 0, 0, 1 ]\n",
    "predictions = [ 0.89, 0.34, 0.08, 0.67 ]"
   ]
  },
  {
   "cell_type": "code",
   "execution_count": 72,
   "metadata": {},
   "outputs": [
    {
     "name": "stdout",
     "output_type": "stream",
     "text": [
      "(1, 0.89)\n",
      "(0, 0.34)\n",
      "(0, 0.08)\n",
      "(1, 0.67)\n"
     ]
    }
   ],
   "source": [
    "for pairs in zip( test, predictions ):\n",
    "    print( pairs )"
   ]
  },
  {
   "cell_type": "code",
   "execution_count": 73,
   "metadata": {},
   "outputs": [],
   "source": [
    "categories = [ 'Еда', 'Авто', 'Политика' ]\n",
    "audience = [ 100, 200, 300 ]"
   ]
  },
  {
   "cell_type": "code",
   "execution_count": 74,
   "metadata": {},
   "outputs": [
    {
     "name": "stdout",
     "output_type": "stream",
     "text": [
      "('Еда', 100)\n",
      "('Авто', 200)\n",
      "('Политика', 300)\n"
     ]
    }
   ],
   "source": [
    "category_audience = zip( categories, audience )\n",
    "for element in category_audience:\n",
    "    print( element )"
   ]
  },
  {
   "cell_type": "code",
   "execution_count": 75,
   "metadata": {},
   "outputs": [
    {
     "name": "stdout",
     "output_type": "stream",
     "text": [
      "{'Еда': 100, 'Авто': 200, 'Политика': 300}\n"
     ]
    }
   ],
   "source": [
    "categoriesDict = dict( zip( categories, audience ) )\n",
    "print( categoriesDict )"
   ]
  },
  {
   "cell_type": "markdown",
   "metadata": {},
   "source": [
    "## Регулярные выражения"
   ]
  },
  {
   "cell_type": "code",
   "execution_count": 76,
   "metadata": {},
   "outputs": [],
   "source": [
    "# https://docs.python.org/2/library/re.html#re.compile\n",
    "import re\n",
    "\n",
    "# шаблон страницы новостей (любые символы, потом / и 8 цифр подряд)\n",
    "# http://www.petefreitag.com/cheatsheets/regex/\n",
    "pattern = '.*/[0-9]{8}'\n",
    "prog = re.compile( pattern )"
   ]
  },
  {
   "cell_type": "code",
   "execution_count": 77,
   "metadata": {},
   "outputs": [
    {
     "name": "stdout",
     "output_type": "stream",
     "text": [
      "/politics/36188461-s-marta-zhizn-rossiyan-suschestvenno-izmenitsya-iz-za-novyh-zakonov/\n",
      "/world/36007585-tramp-pridumal-kak-reshit-ukrainskiy-vopros/\n",
      "/science/36157853-nasa-sobiraet-ekstrennuyu-press-konferentsiyu-na-temu-vnezemnoy-zhizni/\n",
      "/video/36001498-poyavilis-pervye-podrobnosti-gibeli-natali-melamed/\n",
      "/world/36007585-tramp-pridumal-kak-reshit-ukrainskiy-vopros/?smi2=1\n",
      "/middleeast/36131117-divizion-s-400-ne-zametil-ataki-f-35-pod-damaskom/\n",
      "/economics/36065674-rossiyane-vozmutilis-minimalnymi-zarplatami-v-stranah-es/\n",
      "/politics/36118047-otets-24-detey-potreboval-izvineniy-ot-soloveva/?smi2=1\n",
      "/travel/36194479-v-sheremetevo-passazhiry-ustroili-bunt/\n",
      "/politics/35638742-nesolidno-mariya-zaharova-sdelala-neozhidannoe-priznanie/\n",
      "/video/36012692-tramp-otkrestilsya-ot-rossii-i-putina/\n",
      "/starlife/36174817-guzeeva-rasstalas-s-muzhem/\n",
      "/health/36149308-predlozheno-prostoe-sredstvo-ot-insulta/\n",
      "/science/36139723-set-vzbudorazhila-novost-o-sensatsii-nasa/\n",
      "/cis/36229699-poroshenko-obyavil-vseukrainskiy-traur/\n",
      "/incidents/36225203-tonnel-obrushilsya-v-novoy-moskve-pod-zavalami-lyudi/\n",
      "/politics/36118047-otets-24-detey-potreboval-izvineniy-ot-soloveva/\n",
      "/world/36075956-na-granitse-s-krymom-zahvachena-baza-krymsko-tatarskogo-batalona/\n",
      "/politics/36115220-mid-vystupil-s-preduprezhdeniem-k-rossiyanam/\n",
      "/world/36018565-sbu-opublikovala-zapis-peregovorov-plotnitskogo-o-sbitom-il-76/\n",
      "/politics/36150505-stala-izvestna-prichina-smerti-churkina/\n",
      "/middleeast/36131117-divizion-s-400-ne-zametil-ataki-f-35-pod-damaskom/?smi2=1\n",
      "/sport/36055585-fiyon-maye-my-prouchili-russkih-moshennikov-na-trasse/\n",
      "/crazy-world/36193471-seks-bezhentsy-vernulis-v-germaniyu-iz-novosibirskoy-glubinki/\n",
      "/crazy-world/36087352-moskvicha-shokirovala-nahodka-v-steyke/\n",
      "/incidents/36096689-rossiyskih-turistov-dvazhdy-zakidali-kamnyami-v-abhazii/\n",
      "/video/36225009-otschet-poshel-zaharchenko-nazval-srok-likvidatsii-ukrainy/\n",
      "/health/36139780-opredelen-reshayuschiy-faktor-zdorovya-zubov/\n",
      "/business/36187789-v-rf-hotyat-povysit-nalogi-dlya-obychnyh-grazhdan/\n",
      "/video/35930625-dozvonivshiysya-v-efir-ukrainskogo-tv-rasskazal-o-zhizni-v-krymu/?smi2=1\n",
      "/head/36214416-u-zheny-karachentsova-nashli-alkogol-v-krovi/\n",
      "/head/36038043-foto-otdyhayuschiy-obama-vzbudorazhil-set/slides/\n",
      "/cis/36189830-kiev-arestoval-imuschestvo-v-krymu/\n",
      "/video/36006794-pogibshaya-melamed-ostavila-predsmertnuyu-zapisku/\n",
      "/video/36082961-nikol-kidman-prishla-na-britanskiy-oskar-v-neprilichnom-plate/\n",
      "/incidents/36173928-v-ekaterinburge-migranty-ustroili-bunt/\n",
      "/video/36151719-petrosyanu-grozit-sud/\n",
      "/business/36102731-rubl-rezko-otreagiroval-na-soobscheniya-o-vstreche-putina-s-oreshkinym/\n",
      "/articles/36193368-donbass-reshil-udarit-pervym/\n",
      "/science/36178249-rasshifrovano-predskazanie-nostradamusa-na-2017-god/\n",
      "/world/36206871-na-ukraine-nachalsya-shturm-uchastnikov-blokady-donbassa/\n",
      "/science/36233829-sozdano-lekarstvo-ot-vseh-vidov-raka/\n",
      "/politics/36093799-sbezhavshuyu-iz-rossii-maksakovu-uvolili-iz-gnesinki/\n",
      "/cis/36144647-v-tsentr-kieva-styagivayut-voennuyu-tehniku/\n",
      "/starlife/36140271-skandalnoe-foto-britni-spirs-vzorvalo-instagram/\n",
      "/finances/36043911-rublyu-predrekli-dvoynoy-udar/\n",
      "/starlife/36135554-doch-valerii-snyalas-v-otkrovennoy-fotosessii/\n",
      "/starlife/36005664-dzhennifer-lopes-vzorvala-internet-intimnym-foto/\n",
      "/starlife/36240935-dzhigurde-postavili-diagnoz/\n",
      "/politics/36233197-times-britaniya-peregnula-palku-s-krymom/\n",
      "/articles/36213214-vozmozhna-bolshaya-voyna/\n",
      "/articles/36142564-ukrainu-ureguliruyut-po-tihomu/\n",
      "/starlife/36044627-u-malyshevoy-sdali-nervy-na-peredache/\n",
      "/starlife/36053306-dzhigarhanyan-dal-shokiruyuschee-intervyu-o-byvshih-zhenah/\n",
      "/business/36184872-udar-po-schetchiku-rossiyane-stolknulis-s-dikim-skachkom-tarifov-zhkh/\n",
      "/world/36195262-deputat-savchenko-predlozhila-ukraintsam-posledovat-za-krymom/\n",
      "/starlife/36014715-evelina-bledans-vyshla-v-svet-bez-nizhnego-belya/\n",
      "/europe/36046038-v-parizhskom-metro-progremel-vzryv/\n",
      "/middleeast/36024757-v-sekretnoy-tyurme-v-sirii-povesheny-13-tysyach-chelovek/\n",
      "/video/36202662-nakazanie-dlya-lukashenko-rossiya-nashla-zhestkiy-rychag-protiv-belorussii/\n",
      "/articles/36170146-rossiya-reshila-postavlyat-ugol-napryamuyu-v-donbass/\n",
      "/business/36016781-sberbank-cib-nazval-sroki-devalvatsii-rublya/\n",
      "/politics/36229424-rossiya-vyrazila-protest-bolgarii/\n",
      "/kinomusic/36016432-igorya-krutogo-prooperirovali-v-amerike/\n",
      "/starlife/36008814-minus-odin-nyusha-otkazalas-ehat-v-kiev-na-evrovidenie/\n",
      "/lifestyle/36185060-uchenye-rasskazali-kak-v-buduschem-izmenitsya-seks/\n",
      "/articles/36082911-pribaltika-i-ukraina-v-panike-ili-igla-byvaet-ne-tolko-neftyanaya/\n",
      "/politics/36203629-v-gosdume-obyasnili-perenos-dnya-zaschitnika-otechestva/\n",
      "/economics/36097033-a-zhit-za-schet-rossii-vy-gotovy/?smi2=1\n",
      "/incidents/36003455-natalya-melamed-pered-gibelyu-prozhila-v-lesu-dva-dnya/\n",
      "/starlife/36131560-maksakova-shokirovala-otkrovennymi-fotografiyami/\n",
      "/sport/36235520-v-britanii-razgorelsya-krupneyshiy-doping-skandal-v-istorii/\n",
      "/articles/36093326-shturmovat-donetsk-i-lugansk-budut-pidzhaki/\n",
      "/video/36214784-panayotov-sdelal-shokiruyuschee-priznanie/\n",
      "/world/36215106-lider-ig-obratilsya-k-boevikam-s-proschalnoy-rechyu/\n",
      "/articles/36066499-iz-za-zvaniy-anny-netrebko-i-zary-razgorelis-skandaly/\n",
      "/starlife/36096316-u-lyudmily-maksakovoy-sdali-nervy-posle-pobega-docheri-na-ukrainu/?24smi=1\n",
      "/economics/36097033-a-zhit-za-schet-rossii-vy-gotovy/\n",
      "/starlife/36096182-vdova-valeriya-zolotuhina-vstretila-novuyu-lyubov/\n",
      "/cis/35984145-kreml-prokommentiroval-soobscheniya-smi-o-vozmozhnom-razvale-eaes-iz-za-belorussii/?24smi=1\n",
      "/video/36071019-olimpiyskie-obekty-rio-prevratilis-v-ruiny/\n",
      "/science/36151301-nazvano-posledstvie-zloupotrebleniya-alkogolem/\n",
      "/incidents/36027330-vospitatelnitsu-zatravili-za-erotichnoe-foto-s-vedrom/\n",
      "/world/36103095-dominikanskih-zhurnalistov-ubili-v-pryamom-efire/\n"
     ]
    }
   ],
   "source": [
    "# если поставить опцию 'w' при обращении к файлу, то он будет очищен\n",
    "# если 'a' - данные будут добавлены в конец файла\n",
    "\n",
    "with open('URLs.txt', 'r') as f:\n",
    "    \n",
    "    for line in f:\n",
    "        # убираем символ переноса строки для каждой читаемой строчки\n",
    "        line = line.strip()\n",
    "        \n",
    "        # если текст строки удовлетворяем регулярному выражению pattern, то выводим строку\n",
    "        if prog.match( line ):\n",
    "            print( line )"
   ]
  },
  {
   "cell_type": "markdown",
   "metadata": {},
   "source": [
    "## Работа с датами"
   ]
  },
  {
   "cell_type": "code",
   "execution_count": 78,
   "metadata": {},
   "outputs": [],
   "source": [
    "from datetime import datetime, timedelta"
   ]
  },
  {
   "cell_type": "code",
   "execution_count": 79,
   "metadata": {},
   "outputs": [],
   "source": [
    "startDate = '2017-05-01' # формат string\n",
    "endDate = '2017-05-10'"
   ]
  },
  {
   "cell_type": "code",
   "execution_count": 80,
   "metadata": {},
   "outputs": [
    {
     "data": {
      "text/plain": [
       "datetime.datetime(2017, 5, 1, 0, 0)"
      ]
     },
     "execution_count": 80,
     "metadata": {},
     "output_type": "execute_result"
    }
   ],
   "source": [
    "datetime.strptime( startDate, '%Y-%m-%d' )"
   ]
  },
  {
   "cell_type": "code",
   "execution_count": 81,
   "metadata": {},
   "outputs": [
    {
     "data": {
      "text/plain": [
       "datetime.datetime(2017, 5, 9, 9, 0)"
      ]
     },
     "execution_count": 81,
     "metadata": {},
     "output_type": "execute_result"
    }
   ],
   "source": [
    "# форматы дат\n",
    "# https://docs.python.org/3/library/datetime.html\n",
    "datetime.strptime( 'May 9 2017  9:00AM', '%b %d %Y %I:%M%p' )"
   ]
  },
  {
   "cell_type": "code",
   "execution_count": 82,
   "metadata": {},
   "outputs": [
    {
     "name": "stdout",
     "output_type": "stream",
     "text": [
      "2017-05-01\n",
      "2017-05-02\n",
      "2017-05-03\n",
      "2017-05-04\n",
      "2017-05-05\n",
      "2017-05-06\n",
      "2017-05-07\n",
      "2017-05-08\n",
      "2017-05-09\n",
      "2017-05-10\n"
     ]
    }
   ],
   "source": [
    "startDateDT = datetime.strptime( startDate, '%Y-%m-%d' )\n",
    "endDateDT = datetime.strptime( endDate, '%Y-%m-%d' )\n",
    "\n",
    "currentDT = startDateDT\n",
    "\n",
    "while currentDT <= endDateDT:\n",
    "    print( currentDT.strftime( '%Y-%m-%d' ) )\n",
    "\n",
    "    currentDT += timedelta( days = 1 )"
   ]
  },
  {
   "cell_type": "markdown",
   "metadata": {},
   "source": [
    "## Logging"
   ]
  },
  {
   "cell_type": "markdown",
   "metadata": {
    "collapsed": true
   },
   "source": [
    "Что было бы круто:\n",
    "* сообщения выводятся на экран в Jupyter notebook без задержек (как это иногда бывает у print)\n",
    "* сообщения автоматом пишутся в файл в едином формате (например, когда скрипт выполняется по cron)"
   ]
  },
  {
   "cell_type": "code",
   "execution_count": 83,
   "metadata": {},
   "outputs": [],
   "source": [
    "# https://docs.python.org/3.6/library/logging.html\n",
    "import logging"
   ]
  },
  {
   "cell_type": "code",
   "execution_count": 84,
   "metadata": {},
   "outputs": [],
   "source": [
    "# что будем выводить / писать в файл\n",
    "# https://docs.python.org/3.6/library/logging.html#logrecord-attributes\n",
    "logger = logging.getLogger( 'Тест логгера' )\n",
    "hdlr = logging.FileHandler( 'error.log', mode = 'w' )\n",
    "formatter = logging.Formatter('%(asctime)s [LINE:%(lineno)d] %(levelname)s-8s %(message)s')\n",
    "hdlr.setFormatter( formatter )\n",
    "logger.addHandler( hdlr )\n",
    "logger.setLevel(logging.INFO)"
   ]
  },
  {
   "cell_type": "code",
   "execution_count": 85,
   "metadata": {},
   "outputs": [],
   "source": [
    "data = [ 1, 55, 'abc', 12 ]"
   ]
  },
  {
   "cell_type": "code",
   "execution_count": 86,
   "metadata": {},
   "outputs": [],
   "source": [
    "for num in data:\n",
    "    # проверяем входные данные на целое число\n",
    "    if isinstance( num, int ):\n",
    "        logger.info( 'Ok %s', num )\n",
    "    \n",
    "    else:\n",
    "        logger.warning( 'Некорректное значение. Значение было %s', num )"
   ]
  },
  {
   "cell_type": "markdown",
   "metadata": {},
   "source": [
    "## Веб-запросы"
   ]
  },
  {
   "cell_type": "code",
   "execution_count": 97,
   "metadata": {},
   "outputs": [],
   "source": [
    "# для выполнения запросов к API систем используется библиотека requests\n",
    "# есть еще urllib разных версий\n",
    "import requests"
   ]
  },
  {
   "cell_type": "code",
   "execution_count": 98,
   "metadata": {},
   "outputs": [],
   "source": [
    "# сделаем запрос к API Вконтакте\n",
    "# используем метод users.get, который возвращает основную информацию о пользователе\n",
    "# документация метода https://new.vk.com/dev/users.get\n",
    "# как делать запросы к API ВКонтакте https://new.vk.com/dev/api_requests\n",
    "\n",
    "r = requests.get('https://api.vk.com/method/users.get?user_id=1&fields=bdate&v=5.52')"
   ]
  },
  {
   "cell_type": "code",
   "execution_count": 99,
   "metadata": {},
   "outputs": [],
   "source": [
    "# лучше писать так\n",
    "\n",
    "url = 'https://api.vk.com/method/users.get'\n",
    "\n",
    "params = {\n",
    "    'user_id': 1,\n",
    "    'fields': 'bdate',\n",
    "    'v': '5.52'\n",
    "}\n",
    "\n",
    "r = requests.get( url, params = params )"
   ]
  },
  {
   "cell_type": "code",
   "execution_count": 100,
   "metadata": {},
   "outputs": [
    {
     "ename": "SyntaxError",
     "evalue": "invalid syntax (<ipython-input-100-02300d22e425>, line 2)",
     "output_type": "error",
     "traceback": [
      "\u001b[1;36m  File \u001b[1;32m\"<ipython-input-100-02300d22e425>\"\u001b[1;36m, line \u001b[1;32m2\u001b[0m\n\u001b[1;33m    r.\u001b[0m\n\u001b[1;37m      ^\u001b[0m\n\u001b[1;31mSyntaxError\u001b[0m\u001b[1;31m:\u001b[0m invalid syntax\n"
     ]
    }
   ],
   "source": [
    "# запрос сделали, посмотрим что пришло в ответ (дополнительное поле в запросе задали одно, информации минимум)\n",
    "r."
   ]
  },
  {
   "cell_type": "code",
   "execution_count": 101,
   "metadata": {},
   "outputs": [
    {
     "data": {
      "text/plain": [
       "str"
      ]
     },
     "execution_count": 101,
     "metadata": {},
     "output_type": "execute_result"
    }
   ],
   "source": [
    "# это ответ в формате JSON\n",
    "# сейчас это просто строка, с которой тяжело работать\n",
    "\n",
    "\n",
    "type( r.text )"
   ]
  },
  {
   "cell_type": "code",
   "execution_count": 106,
   "metadata": {},
   "outputs": [
    {
     "data": {
      "text/plain": [
       "{'error': {'error_code': 5,\n",
       "  'error_msg': 'User authorization failed: no access_token passed.',\n",
       "  'request_params': [{'key': 'user_id', 'value': '1'},\n",
       "   {'key': 'fields', 'value': 'bdate'},\n",
       "   {'key': 'v', 'value': '5.52'},\n",
       "   {'key': 'method', 'value': 'users.get'},\n",
       "   {'key': 'oauth', 'value': '1'}]}}"
      ]
     },
     "execution_count": 106,
     "metadata": {},
     "output_type": "execute_result"
    }
   ],
   "source": [
    "# преобразуем строку в словарь, чтобы обращаться к нужным нам элементам\n",
    "# используем библиотеку для работы с форматом JSON\n",
    "import json\n",
    "\n",
    "response = json.loads(r.text)\n",
    "response"
   ]
  },
  {
   "cell_type": "code",
   "execution_count": 107,
   "metadata": {},
   "outputs": [
    {
     "ename": "KeyError",
     "evalue": "'response'",
     "output_type": "error",
     "traceback": [
      "\u001b[1;31m---------------------------------------------------------------------------\u001b[0m",
      "\u001b[1;31mKeyError\u001b[0m                                  Traceback (most recent call last)",
      "\u001b[1;32m<ipython-input-107-5500f0cf7366>\u001b[0m in \u001b[0;36m<module>\u001b[1;34m\u001b[0m\n\u001b[0;32m      2\u001b[0m \u001b[1;31m# значение словаря response - лист из одного элемента, который представляет собой словарь\u001b[0m\u001b[1;33m\u001b[0m\u001b[1;33m\u001b[0m\u001b[1;33m\u001b[0m\u001b[0m\n\u001b[0;32m      3\u001b[0m \u001b[1;33m\u001b[0m\u001b[0m\n\u001b[1;32m----> 4\u001b[1;33m \u001b[0mresponse\u001b[0m\u001b[1;33m[\u001b[0m\u001b[1;34m'response'\u001b[0m\u001b[1;33m]\u001b[0m\u001b[1;33m[\u001b[0m\u001b[1;36m0\u001b[0m\u001b[1;33m]\u001b[0m\u001b[1;33m\u001b[0m\u001b[1;33m\u001b[0m\u001b[0m\n\u001b[0m",
      "\u001b[1;31mKeyError\u001b[0m: 'response'"
     ]
    }
   ],
   "source": [
    "# обратите внимание, что response представляет собой словарь с единственным ключом 'response'\n",
    "# значение словаря response - лист из одного элемента, который представляет собой словарь\n",
    "\n",
    "response['response'][0]"
   ]
  },
  {
   "cell_type": "code",
   "execution_count": 104,
   "metadata": {},
   "outputs": [
    {
     "ename": "KeyError",
     "evalue": "'response'",
     "output_type": "error",
     "traceback": [
      "\u001b[1;31m---------------------------------------------------------------------------\u001b[0m",
      "\u001b[1;31mKeyError\u001b[0m                                  Traceback (most recent call last)",
      "\u001b[1;32m<ipython-input-104-45ed2ce647af>\u001b[0m in \u001b[0;36m<module>\u001b[1;34m\u001b[0m\n\u001b[0;32m      1\u001b[0m \u001b[1;31m# для упрощения отображения заведем переменную\u001b[0m\u001b[1;33m\u001b[0m\u001b[1;33m\u001b[0m\u001b[1;33m\u001b[0m\u001b[0m\n\u001b[1;32m----> 2\u001b[1;33m \u001b[0mdata\u001b[0m \u001b[1;33m=\u001b[0m \u001b[0mresponse\u001b[0m\u001b[1;33m[\u001b[0m\u001b[1;34m'response'\u001b[0m\u001b[1;33m]\u001b[0m\u001b[1;33m[\u001b[0m\u001b[1;36m0\u001b[0m\u001b[1;33m]\u001b[0m\u001b[1;33m\u001b[0m\u001b[1;33m\u001b[0m\u001b[0m\n\u001b[0m\u001b[0;32m      3\u001b[0m \u001b[0mdata\u001b[0m\u001b[1;33m[\u001b[0m\u001b[1;34m'first_name'\u001b[0m\u001b[1;33m]\u001b[0m\u001b[1;33m\u001b[0m\u001b[1;33m\u001b[0m\u001b[0m\n",
      "\u001b[1;31mKeyError\u001b[0m: 'response'"
     ]
    }
   ],
   "source": [
    "# для упрощения отображения заведем переменную\n",
    "data = response['response'][0]\n",
    "data['first_name']"
   ]
  },
  {
   "cell_type": "code",
   "execution_count": 105,
   "metadata": {},
   "outputs": [
    {
     "ename": "TypeError",
     "evalue": "list indices must be integers or slices, not str",
     "output_type": "error",
     "traceback": [
      "\u001b[1;31m---------------------------------------------------------------------------\u001b[0m",
      "\u001b[1;31mTypeError\u001b[0m                                 Traceback (most recent call last)",
      "\u001b[1;32m<ipython-input-105-3a3805e06123>\u001b[0m in \u001b[0;36m<module>\u001b[1;34m\u001b[0m\n\u001b[0;32m      3\u001b[0m \u001b[1;31m# чтобы избежать проблем в нашем случае добавляем преобразование в стандартную кодировку UTF-8\u001b[0m\u001b[1;33m\u001b[0m\u001b[1;33m\u001b[0m\u001b[1;33m\u001b[0m\u001b[0m\n\u001b[0;32m      4\u001b[0m \u001b[1;33m\u001b[0m\u001b[0m\n\u001b[1;32m----> 5\u001b[1;33m \u001b[0mprint\u001b[0m\u001b[1;33m(\u001b[0m \u001b[1;34m'ID пользователя - {:.00f}'\u001b[0m\u001b[1;33m.\u001b[0m\u001b[0mformat\u001b[0m\u001b[1;33m(\u001b[0m \u001b[0mdata\u001b[0m\u001b[1;33m[\u001b[0m\u001b[1;34m'id'\u001b[0m\u001b[1;33m]\u001b[0m \u001b[1;33m)\u001b[0m \u001b[1;33m)\u001b[0m\u001b[1;33m\u001b[0m\u001b[1;33m\u001b[0m\u001b[0m\n\u001b[0m\u001b[0;32m      6\u001b[0m \u001b[0mprint\u001b[0m\u001b[1;33m(\u001b[0m \u001b[1;34m'Имя - {}'\u001b[0m\u001b[1;33m.\u001b[0m\u001b[0mformat\u001b[0m\u001b[1;33m(\u001b[0m \u001b[0mdata\u001b[0m\u001b[1;33m[\u001b[0m\u001b[1;34m'first_name'\u001b[0m\u001b[1;33m]\u001b[0m \u001b[1;33m)\u001b[0m \u001b[1;33m)\u001b[0m\u001b[1;33m\u001b[0m\u001b[1;33m\u001b[0m\u001b[0m\n\u001b[0;32m      7\u001b[0m \u001b[0mprint\u001b[0m\u001b[1;33m(\u001b[0m \u001b[1;34m'Фамилия - {}'\u001b[0m\u001b[1;33m.\u001b[0m\u001b[0mformat\u001b[0m\u001b[1;33m(\u001b[0m \u001b[0mdata\u001b[0m\u001b[1;33m[\u001b[0m\u001b[1;34m'last_name'\u001b[0m\u001b[1;33m]\u001b[0m \u001b[1;33m)\u001b[0m \u001b[1;33m)\u001b[0m\u001b[1;33m\u001b[0m\u001b[1;33m\u001b[0m\u001b[0m\n",
      "\u001b[1;31mTypeError\u001b[0m: list indices must be integers or slices, not str"
     ]
    }
   ],
   "source": [
    "# выведем полученную информацию\n",
    "# иногда при отображении русских букв возникают ошибки\n",
    "# чтобы избежать проблем в нашем случае добавляем преобразование в стандартную кодировку UTF-8\n",
    "\n",
    "print( 'ID пользователя - {:.00f}'.format( data['id'] ) )\n",
    "print( 'Имя - {}'.format( data['first_name'] ) )\n",
    "print( 'Фамилия - {}'.format( data['last_name'] ) )\n",
    "print( 'Дата рождения - {}'.format( data['bdate'] ) )"
   ]
  },
  {
   "cell_type": "markdown",
   "metadata": {
    "collapsed": true
   },
   "source": [
    "## Try-except"
   ]
  },
  {
   "cell_type": "markdown",
   "metadata": {
    "collapsed": true
   },
   "source": [
    "Имеется файл data_bugs.txt с двумя столбцами чисел. Нужно посчитать сумму второго столбца. Проблема в том, что там файле есть две ошибки: пятый элемент не является числом, девятый - отсутствует"
   ]
  },
  {
   "cell_type": "code",
   "execution_count": 96,
   "metadata": {},
   "outputs": [
    {
     "name": "stdout",
     "output_type": "stream",
     "text": [
      "Значение строки 5 не было целым числом\n",
      "invalid literal for int() with base 10: '@@'\n",
      "\n",
      "Похоже в строке 9 один столбец\n",
      "list index out of range\n",
      "\n",
      "359\n"
     ]
    }
   ],
   "source": [
    "# итоговая сумма, которую надо посчитать\n",
    "totalSum = 0\n",
    "\n",
    "# счетчик номера строки\n",
    "lineNumber = 1\n",
    "\n",
    "with open( 'data_bugs.txt', 'r' ) as f:\n",
    "    for line in f:\n",
    "        \n",
    "        # проверяем, что в текущую строку можно считать в два значения\n",
    "        try:\n",
    "            line = line.strip().split('\\t')\n",
    "\n",
    "            # можно использовать запись (тогда будет ошибка ValueError)\n",
    "            # lineID, value = line.strip().split('\\t')\n",
    "            lineID = line[0]\n",
    "            value = line[1]\n",
    "\n",
    "            totalSum += int( value )\n",
    "        \n",
    "        except IndexError as iError:\n",
    "            print( 'Похоже в строке {} один столбец'.format( lineNumber ) )\n",
    "            print( iError )\n",
    "            print( '' )\n",
    "        \n",
    "        except ValueError as vError:\n",
    "            print( 'Значение строки {} не было целым числом'.format( lineNumber ) )\n",
    "            print( vError )\n",
    "            print( '' )\n",
    "            \n",
    "        except Exception as e:\n",
    "            print( 'Внезапная ошибка на строке P{. Вот что известно:'.format( lineNumber ) )\n",
    "            print( e )        \n",
    "        \n",
    "        lineNumber += 1\n",
    "\n",
    "print( totalSum )"
   ]
  }
 ],
 "metadata": {
  "kernelspec": {
   "display_name": "Python 3",
   "language": "python",
   "name": "python3"
  },
  "language_info": {
   "codemirror_mode": {
    "name": "ipython",
    "version": 3
   },
   "file_extension": ".py",
   "mimetype": "text/x-python",
   "name": "python",
   "nbconvert_exporter": "python",
   "pygments_lexer": "ipython3",
   "version": "3.9.5"
  }
 },
 "nbformat": 4,
 "nbformat_minor": 2
}
