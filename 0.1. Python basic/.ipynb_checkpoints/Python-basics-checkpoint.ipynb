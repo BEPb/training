{
 "cells": [
  {
   "cell_type": "markdown",
   "metadata": {},
   "source": [
    "## Часть примеров, которые разбирали 6 октября"
   ]
  },
  {
   "cell_type": "markdown",
   "metadata": {},
   "source": [
    "Shift + Enter - выполнить код в ячейке и перейти на следующую\n",
    "\n",
    "Ctrl + Enter - выполнить и остаться"
   ]
  },
  {
   "cell_type": "code",
   "execution_count": 4,
   "metadata": {
    "collapsed": true
   },
   "outputs": [],
   "source": [
    "# длинные переменные и названия функций можно записывать разными способами\n",
    "\n",
    "snake_case_integer = 5"
   ]
  },
  {
   "cell_type": "code",
   "execution_count": 2,
   "metadata": {},
   "outputs": [
    {
     "data": {
      "text/plain": [
       "int"
      ]
     },
     "execution_count": 2,
     "metadata": {},
     "output_type": "execute_result"
    }
   ],
   "source": [
    "# пользуйтесь табуляцией для автозаполнения длинных названий\n",
    "\n",
    "type( snake_case_integer )"
   ]
  },
  {
   "cell_type": "code",
   "execution_count": 5,
   "metadata": {
    "collapsed": true
   },
   "outputs": [],
   "source": [
    "camelCaseString = 'строка из слов'"
   ]
  },
  {
   "cell_type": "code",
   "execution_count": 6,
   "metadata": {},
   "outputs": [
    {
     "data": {
      "text/plain": [
       "str"
      ]
     },
     "execution_count": 6,
     "metadata": {},
     "output_type": "execute_result"
    }
   ],
   "source": [
    "type( camelCaseString )"
   ]
  },
  {
   "cell_type": "code",
   "execution_count": 9,
   "metadata": {},
   "outputs": [
    {
     "data": {
      "text/plain": [
       "'с'"
      ]
     },
     "execution_count": 9,
     "metadata": {},
     "output_type": "execute_result"
    }
   ],
   "source": [
    "# первый элемент всегда имеет номер 0\n",
    "# например, первая буква слова\n",
    "\n",
    "camelCaseString[0]"
   ]
  },
  {
   "cell_type": "code",
   "execution_count": 10,
   "metadata": {
    "collapsed": true
   },
   "outputs": [],
   "source": [
    "# разделитель - точка\n",
    "\n",
    "floatNumber = 3.14"
   ]
  },
  {
   "cell_type": "markdown",
   "metadata": {},
   "source": [
    "## Работа с листами"
   ]
  },
  {
   "cell_type": "code",
   "execution_count": null,
   "metadata": {
    "collapsed": true
   },
   "outputs": [],
   "source": [
    "justNumbers = [ 4, 1, 13, 0, 6 ]"
   ]
  },
  {
   "cell_type": "code",
   "execution_count": null,
   "metadata": {},
   "outputs": [],
   "source": [
    "len( justNumbers ) # количество элементов в списке"
   ]
  },
  {
   "cell_type": "code",
   "execution_count": null,
   "metadata": {},
   "outputs": [],
   "source": [
    "sum( justNumbers ) # сумма элементов"
   ]
  },
  {
   "cell_type": "code",
   "execution_count": null,
   "metadata": {},
   "outputs": [],
   "source": [
    "sorted( justNumbers ) # сортировка"
   ]
  },
  {
   "cell_type": "code",
   "execution_count": null,
   "metadata": {},
   "outputs": [],
   "source": [
    "sorted( justNumbers, reverse = True ) # сортировка в обратном порядке"
   ]
  },
  {
   "cell_type": "code",
   "execution_count": null,
   "metadata": {},
   "outputs": [],
   "source": [
    "justNumbers.append( 55 ) # добавление элемента\n",
    "justNumbers"
   ]
  },
  {
   "cell_type": "markdown",
   "metadata": {},
   "source": [
    "Будьте внимательны при изменении листов\n",
    "\n",
    "В примере ниже переменная justNumbers и copyNumbers на самом деле указывают на один и тот же объект. В результате, при добавлении в copyNumbers очередного элемента этот элемент добавляется и в исходном листе justNumbers"
   ]
  },
  {
   "cell_type": "code",
   "execution_count": null,
   "metadata": {
    "collapsed": true
   },
   "outputs": [],
   "source": [
    "copyNumbers = justNumbers\n",
    "copyNumbers.append( 66 )"
   ]
  },
  {
   "cell_type": "code",
   "execution_count": null,
   "metadata": {},
   "outputs": [],
   "source": [
    "justNumbers"
   ]
  },
  {
   "cell_type": "code",
   "execution_count": null,
   "metadata": {},
   "outputs": [],
   "source": [
    "id( justNumbers )"
   ]
  },
  {
   "cell_type": "code",
   "execution_count": null,
   "metadata": {},
   "outputs": [],
   "source": [
    "id( copyNumbers )"
   ]
  },
  {
   "cell_type": "code",
   "execution_count": null,
   "metadata": {
    "collapsed": true
   },
   "outputs": [],
   "source": [
    "justNumbers = [ 4, 1, 13, 0, 6, 55 ]"
   ]
  },
  {
   "cell_type": "code",
   "execution_count": null,
   "metadata": {
    "collapsed": true
   },
   "outputs": [],
   "source": [
    "import copy"
   ]
  },
  {
   "cell_type": "code",
   "execution_count": null,
   "metadata": {
    "collapsed": true
   },
   "outputs": [],
   "source": [
    "copyNumbers = copy.copy( justNumbers )\n",
    "copyNumbers.append( 66 )"
   ]
  },
  {
   "cell_type": "code",
   "execution_count": null,
   "metadata": {},
   "outputs": [],
   "source": [
    "id( justNumbers )"
   ]
  },
  {
   "cell_type": "code",
   "execution_count": null,
   "metadata": {},
   "outputs": [],
   "source": [
    "id( copyNumbers )"
   ]
  },
  {
   "cell_type": "code",
   "execution_count": null,
   "metadata": {},
   "outputs": [],
   "source": [
    "justNumbers"
   ]
  },
  {
   "cell_type": "code",
   "execution_count": null,
   "metadata": {},
   "outputs": [],
   "source": [
    "copyNumbers"
   ]
  },
  {
   "cell_type": "markdown",
   "metadata": {},
   "source": [
    "**Вывод части листа**"
   ]
  },
  {
   "cell_type": "code",
   "execution_count": null,
   "metadata": {
    "collapsed": true
   },
   "outputs": [],
   "source": [
    "sequence = [ 'Первый', 'Второй', 'Третий', 'Четвертый', 'Пятый' ]"
   ]
  },
  {
   "cell_type": "code",
   "execution_count": null,
   "metadata": {},
   "outputs": [],
   "source": [
    "print( sequence[2:3] )"
   ]
  },
  {
   "cell_type": "code",
   "execution_count": null,
   "metadata": {},
   "outputs": [],
   "source": [
    "print( sequence[2] )"
   ]
  },
  {
   "cell_type": "code",
   "execution_count": null,
   "metadata": {},
   "outputs": [],
   "source": [
    "print( type(sequence[2:3]  ) )"
   ]
  },
  {
   "cell_type": "code",
   "execution_count": null,
   "metadata": {},
   "outputs": [],
   "source": [
    "print( type(sequence[2]  ) )"
   ]
  },
  {
   "cell_type": "code",
   "execution_count": null,
   "metadata": {},
   "outputs": [],
   "source": [
    "print( sequence[:3] )"
   ]
  },
  {
   "cell_type": "code",
   "execution_count": null,
   "metadata": {},
   "outputs": [],
   "source": [
    "print( sequence[-1] )"
   ]
  },
  {
   "cell_type": "code",
   "execution_count": null,
   "metadata": {},
   "outputs": [],
   "source": [
    "print( sequence[-2:] )"
   ]
  },
  {
   "cell_type": "code",
   "execution_count": null,
   "metadata": {},
   "outputs": [],
   "source": [
    "','.join( sequence )"
   ]
  },
  {
   "cell_type": "markdown",
   "metadata": {},
   "source": [
    "**List comprehension**"
   ]
  },
  {
   "cell_type": "code",
   "execution_count": null,
   "metadata": {
    "collapsed": true
   },
   "outputs": [],
   "source": [
    "# Дана последовательность чисел. Мы хотим оставить только те, что делятся на 5\n",
    "sequence = range( 0, 40, 3 )"
   ]
  },
  {
   "cell_type": "code",
   "execution_count": null,
   "metadata": {},
   "outputs": [],
   "source": [
    "# решение в лоб\n",
    "for num in sequence:\n",
    "    if num % 5 == 0:\n",
    "        print( num )"
   ]
  },
  {
   "cell_type": "code",
   "execution_count": null,
   "metadata": {},
   "outputs": [],
   "source": [
    "# если хотим получить отфильтрованный лист, то будет даже так\n",
    "filteredSequence = []\n",
    "\n",
    "for num in sequence:\n",
    "    if num % 5 == 0:\n",
    "        filteredSequence.append( num )\n",
    "\n",
    "print( filteredSequence )"
   ]
  },
  {
   "cell_type": "code",
   "execution_count": null,
   "metadata": {},
   "outputs": [],
   "source": [
    "# с list comprehension получается покороче\n",
    "\n",
    "print( [ x for x in sequence if x % 5 == 0 ] )"
   ]
  },
  {
   "cell_type": "markdown",
   "metadata": {},
   "source": [
    "### Map и lambda-функции"
   ]
  },
  {
   "cell_type": "code",
   "execution_count": 6,
   "metadata": {
    "collapsed": true
   },
   "outputs": [],
   "source": [
    "nums = [ 1, 2, 3, 4, 5 ]"
   ]
  },
  {
   "cell_type": "code",
   "execution_count": 7,
   "metadata": {},
   "outputs": [
    {
     "data": {
      "text/plain": [
       "[1, 4, 9, 16, 25]"
      ]
     },
     "execution_count": 7,
     "metadata": {},
     "output_type": "execute_result"
    }
   ],
   "source": [
    "list( map( lambda x: x**2, nums ) )"
   ]
  },
  {
   "cell_type": "code",
   "execution_count": 8,
   "metadata": {
    "collapsed": true
   },
   "outputs": [],
   "source": [
    "def square( x ):\n",
    "    return x**2"
   ]
  },
  {
   "cell_type": "code",
   "execution_count": 9,
   "metadata": {},
   "outputs": [
    {
     "data": {
      "text/plain": [
       "[1, 4, 9, 16, 25]"
      ]
     },
     "execution_count": 9,
     "metadata": {},
     "output_type": "execute_result"
    }
   ],
   "source": [
    "list( map( square, nums ) )"
   ]
  },
  {
   "cell_type": "code",
   "execution_count": 10,
   "metadata": {
    "collapsed": true
   },
   "outputs": [],
   "source": [
    "def cube( x ):\n",
    "    return x**3"
   ]
  },
  {
   "cell_type": "code",
   "execution_count": 11,
   "metadata": {},
   "outputs": [
    {
     "name": "stdout",
     "output_type": "stream",
     "text": [
      "[1, 1]\n",
      "[4, 8]\n",
      "[9, 27]\n",
      "[16, 64]\n",
      "[25, 125]\n"
     ]
    }
   ],
   "source": [
    "for i in range( len( nums ) ):\n",
    "    print( list( map( lambda x: x( nums[ i ] ), [ square, cube ] ) ) )"
   ]
  },
  {
   "cell_type": "markdown",
   "metadata": {},
   "source": [
    "### reduce"
   ]
  },
  {
   "cell_type": "code",
   "execution_count": null,
   "metadata": {
    "collapsed": true
   },
   "outputs": [],
   "source": [
    "from functools import reduce"
   ]
  },
  {
   "cell_type": "code",
   "execution_count": null,
   "metadata": {},
   "outputs": [],
   "source": [
    "reduce( lambda x, y: x + y, [ 1, 2, 3, 4, 5 ] )"
   ]
  },
  {
   "cell_type": "code",
   "execution_count": null,
   "metadata": {},
   "outputs": [],
   "source": [
    "reduce( lambda x, y: x * y, [ 1, 2, 3, 4, 5 ] )"
   ]
  },
  {
   "cell_type": "markdown",
   "metadata": {},
   "source": [
    "## Словари"
   ]
  },
  {
   "cell_type": "code",
   "execution_count": null,
   "metadata": {
    "collapsed": true
   },
   "outputs": [],
   "source": [
    "stats = {\n",
    "    '2017-05-01': 100,\n",
    "    '2017-05-02': 101,\n",
    "    '2017-05-03': 102\n",
    "}"
   ]
  },
  {
   "cell_type": "code",
   "execution_count": null,
   "metadata": {},
   "outputs": [],
   "source": [
    "# обращение к элементу словаря\n",
    "print( stats['2017-05-01'] )"
   ]
  },
  {
   "cell_type": "code",
   "execution_count": null,
   "metadata": {},
   "outputs": [],
   "source": [
    "# пройтись по элементам словаря\n",
    "for key, value in stats.items():\n",
    "    print( key, value )"
   ]
  },
  {
   "cell_type": "code",
   "execution_count": null,
   "metadata": {},
   "outputs": [],
   "source": [
    "# количество ключей\n",
    "print( len( stats ) )"
   ]
  },
  {
   "cell_type": "code",
   "execution_count": null,
   "metadata": {},
   "outputs": [],
   "source": [
    "# проверка на наличие ключа в словаре\n",
    "newDate = '2017-05-04'\n",
    "newDateValue = 103\n",
    "\n",
    "if newDate in stats:\n",
    "    print( 'Ok' )\n",
    "    \n",
    "else:\n",
    "    stats[ newDate ] = newDateValue\n",
    "\n",
    "print( stats )"
   ]
  },
  {
   "cell_type": "markdown",
   "metadata": {},
   "source": [
    "#### Копирование словарей"
   ]
  },
  {
   "cell_type": "code",
   "execution_count": null,
   "metadata": {
    "collapsed": true
   },
   "outputs": [],
   "source": [
    "newStatsDict = stats"
   ]
  },
  {
   "cell_type": "code",
   "execution_count": null,
   "metadata": {},
   "outputs": [],
   "source": [
    "newStatsDict['2017-05-05'] = 200\n",
    "print( stats )"
   ]
  },
  {
   "cell_type": "code",
   "execution_count": null,
   "metadata": {
    "collapsed": true
   },
   "outputs": [],
   "source": [
    "stats = {\n",
    "    '2017-05-01': 100,\n",
    "    '2017-05-02': 101,\n",
    "    '2017-05-03': 102\n",
    "}"
   ]
  },
  {
   "cell_type": "code",
   "execution_count": null,
   "metadata": {
    "collapsed": true
   },
   "outputs": [],
   "source": [
    "newStatsDict = stats.copy()"
   ]
  },
  {
   "cell_type": "code",
   "execution_count": null,
   "metadata": {},
   "outputs": [],
   "source": [
    "newStatsDict['2017-05-05'] = 200\n",
    "print( stats )"
   ]
  },
  {
   "cell_type": "code",
   "execution_count": null,
   "metadata": {},
   "outputs": [],
   "source": [
    "# проходим по ключам\n",
    "for key in stats.keys():\n",
    "    print( key )"
   ]
  },
  {
   "cell_type": "code",
   "execution_count": null,
   "metadata": {},
   "outputs": [],
   "source": [
    "# проходим по значениям\n",
    "for value in stats.values():\n",
    "    print( value )"
   ]
  },
  {
   "cell_type": "code",
   "execution_count": null,
   "metadata": {
    "collapsed": true
   },
   "outputs": [],
   "source": [
    "newData = {\n",
    "    '2017-05-02': 999\n",
    "}"
   ]
  },
  {
   "cell_type": "code",
   "execution_count": null,
   "metadata": {},
   "outputs": [],
   "source": [
    "stats.update( newData )\n",
    "print( stats )"
   ]
  },
  {
   "cell_type": "markdown",
   "metadata": {},
   "source": [
    "#### Словари и листы"
   ]
  },
  {
   "cell_type": "code",
   "execution_count": null,
   "metadata": {
    "collapsed": true
   },
   "outputs": [],
   "source": [
    "test = [ 1, 0, 0, 1 ]\n",
    "predictions = [ 0.89, 0.34, 0.08, 0.67 ]"
   ]
  },
  {
   "cell_type": "code",
   "execution_count": null,
   "metadata": {},
   "outputs": [],
   "source": [
    "for pairs in zip( test, predictions ):\n",
    "    print( pairs )"
   ]
  },
  {
   "cell_type": "code",
   "execution_count": null,
   "metadata": {
    "collapsed": true
   },
   "outputs": [],
   "source": [
    "categories = [ 'Еда', 'Авто', 'Политика' ]\n",
    "audience = [ 100, 200, 300 ]"
   ]
  },
  {
   "cell_type": "code",
   "execution_count": null,
   "metadata": {},
   "outputs": [],
   "source": [
    "category_audience = zip( categories, audience )\n",
    "for element in category_audience:\n",
    "    print( element )"
   ]
  },
  {
   "cell_type": "code",
   "execution_count": null,
   "metadata": {},
   "outputs": [],
   "source": [
    "categoriesDict = dict( zip( categories, audience ) )\n",
    "print( categoriesDict )"
   ]
  },
  {
   "cell_type": "markdown",
   "metadata": {},
   "source": [
    "## Регулярные выражения"
   ]
  },
  {
   "cell_type": "code",
   "execution_count": null,
   "metadata": {
    "collapsed": true
   },
   "outputs": [],
   "source": [
    "# https://docs.python.org/2/library/re.html#re.compile\n",
    "import re\n",
    "\n",
    "# шаблон страницы новостей (любые символы, потом / и 8 цифр подряд)\n",
    "# http://www.petefreitag.com/cheatsheets/regex/\n",
    "pattern = '.*/[0-9]{8}'\n",
    "prog = re.compile( pattern )"
   ]
  },
  {
   "cell_type": "code",
   "execution_count": null,
   "metadata": {},
   "outputs": [],
   "source": [
    "# если поставить опцию 'w' при обращении к файлу, то он будет очищен\n",
    "# если 'a' - данные будут добавлены в конец файла\n",
    "\n",
    "with open('URLs.txt', 'r') as f:\n",
    "    \n",
    "    for line in f:\n",
    "        # убираем символ переноса строки для каждой читаемой строчки\n",
    "        line = line.strip()\n",
    "        \n",
    "        # если текст строки удовлетворяем регулярному выражению pattern, то выводим строку\n",
    "        if prog.match( line ):\n",
    "            print( line )"
   ]
  },
  {
   "cell_type": "markdown",
   "metadata": {},
   "source": [
    "## Работа с датами"
   ]
  },
  {
   "cell_type": "code",
   "execution_count": 14,
   "metadata": {
    "collapsed": true
   },
   "outputs": [],
   "source": [
    "from datetime import datetime, timedelta"
   ]
  },
  {
   "cell_type": "code",
   "execution_count": 12,
   "metadata": {
    "collapsed": true
   },
   "outputs": [],
   "source": [
    "startDate = '2017-05-01' # формат string\n",
    "endDate = '2017-05-10'"
   ]
  },
  {
   "cell_type": "code",
   "execution_count": null,
   "metadata": {},
   "outputs": [],
   "source": [
    "datetime.strptime( startDate, '%Y-%m-%d' )"
   ]
  },
  {
   "cell_type": "code",
   "execution_count": null,
   "metadata": {},
   "outputs": [],
   "source": [
    "# форматы дат\n",
    "# https://docs.python.org/3/library/datetime.html\n",
    "datetime.strptime( 'May 9 2017  9:00AM', '%b %d %Y %I:%M%p' )"
   ]
  },
  {
   "cell_type": "code",
   "execution_count": 16,
   "metadata": {},
   "outputs": [
    {
     "ename": "IndentationError",
     "evalue": "expected an indented block (<ipython-input-16-03f9feb12cc3>, line 7)",
     "output_type": "error",
     "traceback": [
      "\u001b[0;36m  File \u001b[0;32m\"<ipython-input-16-03f9feb12cc3>\"\u001b[0;36m, line \u001b[0;32m7\u001b[0m\n\u001b[0;31m    print( currentDT.strftime( '%Y-%m-%d' ) )\u001b[0m\n\u001b[0m        ^\u001b[0m\n\u001b[0;31mIndentationError\u001b[0m\u001b[0;31m:\u001b[0m expected an indented block\n"
     ]
    }
   ],
   "source": [
    "startDateDT = datetime.strptime( startDate, '%Y-%m-%d' )\n",
    "endDateDT = datetime.strptime( endDate, '%Y-%m-%d' )\n",
    "\n",
    "currentDT = startDateDT\n",
    "\n",
    "while currentDT <= endDateDT:\n",
    "    print( currentDT.strftime( '%Y-%m-%d' ) )\n",
    "\n",
    "    currentDT += timedelta( days = 1 )"
   ]
  },
  {
   "cell_type": "markdown",
   "metadata": {},
   "source": [
    "## Logging"
   ]
  },
  {
   "cell_type": "markdown",
   "metadata": {
    "collapsed": true
   },
   "source": [
    "Что было бы круто:\n",
    "* сообщения выводятся на экран в Jupyter notebook без задержек (как это иногда бывает у print)\n",
    "* сообщения автоматом пишутся в файл в едином формате (например, когда скрипт выполняется по cron)"
   ]
  },
  {
   "cell_type": "code",
   "execution_count": null,
   "metadata": {
    "collapsed": true
   },
   "outputs": [],
   "source": [
    "# https://docs.python.org/3.6/library/logging.html\n",
    "import logging"
   ]
  },
  {
   "cell_type": "code",
   "execution_count": null,
   "metadata": {
    "collapsed": true
   },
   "outputs": [],
   "source": [
    "# что будем выводить / писать в файл\n",
    "# https://docs.python.org/3.6/library/logging.html#logrecord-attributes\n",
    "logger = logging.getLogger( 'Тест логгера' )\n",
    "hdlr = logging.FileHandler( 'error.log', mode = 'w' )\n",
    "formatter = logging.Formatter('%(asctime)s [LINE:%(lineno)d] %(levelname)s-8s %(message)s')\n",
    "hdlr.setFormatter( formatter )\n",
    "logger.addHandler( hdlr )\n",
    "logger.setLevel(logging.INFO)"
   ]
  },
  {
   "cell_type": "code",
   "execution_count": null,
   "metadata": {
    "collapsed": true
   },
   "outputs": [],
   "source": [
    "data = [ 1, 55, 'abc', 12 ]"
   ]
  },
  {
   "cell_type": "code",
   "execution_count": null,
   "metadata": {},
   "outputs": [],
   "source": [
    "for num in data:\n",
    "    # проверяем входные данные на целое число\n",
    "    if isinstance( num, int ):\n",
    "        logger.info( 'Ok %s', num )\n",
    "    \n",
    "    else:\n",
    "        logger.warning( 'Некорректное значение. Значение было %s', num )"
   ]
  },
  {
   "cell_type": "markdown",
   "metadata": {},
   "source": [
    "## Веб-запросы"
   ]
  },
  {
   "cell_type": "code",
   "execution_count": 17,
   "metadata": {
    "collapsed": true
   },
   "outputs": [],
   "source": [
    "# для выполнения запросов к API систем используется библиотека requests\n",
    "# есть еще urllib разных версий\n",
    "import requests"
   ]
  },
  {
   "cell_type": "code",
   "execution_count": null,
   "metadata": {
    "collapsed": true
   },
   "outputs": [],
   "source": [
    "# сделаем запрос к API Вконтакте\n",
    "# используем метод users.get, который возвращает основную информацию о пользователе\n",
    "# документация метода https://new.vk.com/dev/users.get\n",
    "# как делать запросы к API ВКонтакте https://new.vk.com/dev/api_requests\n",
    "\n",
    "r = requests.get('https://api.vk.com/method/users.get?user_id=1&fields=bdate&v=5.52')"
   ]
  },
  {
   "cell_type": "code",
   "execution_count": 18,
   "metadata": {
    "collapsed": true
   },
   "outputs": [],
   "source": [
    "# лучше писать так\n",
    "\n",
    "url = 'https://api.vk.com/method/users.get'\n",
    "\n",
    "params = {\n",
    "    'user_id': 1,\n",
    "    'fields': 'bdate',\n",
    "    'v': '5.52'\n",
    "}\n",
    "\n",
    "r = requests.get( url, params = params )"
   ]
  },
  {
   "cell_type": "code",
   "execution_count": 26,
   "metadata": {},
   "outputs": [
    {
     "data": {
      "text/plain": [
       "{'response': [{'bdate': '10.10.1984',\n",
       "   'first_name': 'Павел',\n",
       "   'id': 1,\n",
       "   'last_name': 'Дуров'}]}"
      ]
     },
     "execution_count": 26,
     "metadata": {},
     "output_type": "execute_result"
    }
   ],
   "source": [
    "# запрос сделали, посмотрим что пришло в ответ (дополнительное поле в запросе задали одно, информации минимум)\n",
    "r."
   ]
  },
  {
   "cell_type": "code",
   "execution_count": 20,
   "metadata": {},
   "outputs": [
    {
     "data": {
      "text/plain": [
       "str"
      ]
     },
     "execution_count": 20,
     "metadata": {},
     "output_type": "execute_result"
    }
   ],
   "source": [
    "# это ответ в формате JSON\n",
    "# сейчас это просто строка, с которой тяжело работать\n",
    "\n",
    "type( r.text )"
   ]
  },
  {
   "cell_type": "code",
   "execution_count": 21,
   "metadata": {},
   "outputs": [
    {
     "data": {
      "text/plain": [
       "{'response': [{'bdate': '10.10.1984',\n",
       "   'first_name': 'Павел',\n",
       "   'id': 1,\n",
       "   'last_name': 'Дуров'}]}"
      ]
     },
     "execution_count": 21,
     "metadata": {},
     "output_type": "execute_result"
    }
   ],
   "source": [
    "# преобразуем строку в словарь, чтобы обращаться к нужным нам элементам\n",
    "# используем библиотеку для работы с форматом JSON\n",
    "import json\n",
    "\n",
    "response = json.loads(r.text)\n",
    "response"
   ]
  },
  {
   "cell_type": "code",
   "execution_count": null,
   "metadata": {},
   "outputs": [],
   "source": [
    "# обратите внимание, что response представляет собой словарь с единственным ключом 'response'\n",
    "# значение словаря response - лист из одного элемента, который представляет собой словарь\n",
    "\n",
    "response['response'][0]"
   ]
  },
  {
   "cell_type": "code",
   "execution_count": 23,
   "metadata": {},
   "outputs": [
    {
     "data": {
      "text/plain": [
       "'Павел'"
      ]
     },
     "execution_count": 23,
     "metadata": {},
     "output_type": "execute_result"
    }
   ],
   "source": [
    "# для упрощения отображения заведем переменную\n",
    "data = response['response'][0]\n",
    "data['first_name']"
   ]
  },
  {
   "cell_type": "code",
   "execution_count": 24,
   "metadata": {},
   "outputs": [
    {
     "name": "stdout",
     "output_type": "stream",
     "text": [
      "ID пользователя - 1\n",
      "Имя - Павел\n",
      "Фамилия - Дуров\n",
      "Дата рождения - 10.10.1984\n"
     ]
    }
   ],
   "source": [
    "# выведем полученную информацию\n",
    "# иногда при отображении русских букв возникают ошибки\n",
    "# чтобы избежать проблем в нашем случае добавляем преобразование в стандартную кодировку UTF-8\n",
    "\n",
    "print( 'ID пользователя - {:.00f}'.format( data['id'] ) )\n",
    "print( 'Имя - {}'.format( data['first_name'] ) )\n",
    "print( 'Фамилия - {}'.format( data['last_name'] ) )\n",
    "print( 'Дата рождения - {}'.format( data['bdate'] ) )"
   ]
  },
  {
   "cell_type": "markdown",
   "metadata": {
    "collapsed": true
   },
   "source": [
    "## Try-except"
   ]
  },
  {
   "cell_type": "markdown",
   "metadata": {
    "collapsed": true
   },
   "source": [
    "Имеется файл data_bugs.txt с двумя столбцами чисел. Нужно посчитать сумму второго столбца. Проблема в том, что там файле есть две ошибки: пятый элемент не является числом, девятый - отсутствует"
   ]
  },
  {
   "cell_type": "code",
   "execution_count": null,
   "metadata": {},
   "outputs": [],
   "source": [
    "# итоговая сумма, которую надо посчитать\n",
    "totalSum = 0\n",
    "\n",
    "# счетчик номера строки\n",
    "lineNumber = 1\n",
    "\n",
    "with open( 'data_bugs.txt', 'r' ) as f:\n",
    "    for line in f:\n",
    "        \n",
    "        # проверяем, что в текущую строку можно считать в два значения\n",
    "        try:\n",
    "            line = line.strip().split('\\t')\n",
    "\n",
    "            # можно использовать запись (тогда будет ошибка ValueError)\n",
    "            # lineID, value = line.strip().split('\\t')\n",
    "            lineID = line[0]\n",
    "            value = line[1]\n",
    "\n",
    "            totalSum += int( value )\n",
    "        \n",
    "        except IndexError as iError:\n",
    "            print( 'Похоже в строке {} один столбец'.format( lineNumber ) )\n",
    "            print( iError )\n",
    "            print( '' )\n",
    "        \n",
    "        except ValueError as vError:\n",
    "            print( 'Значение строки {} не было целым числом'.format( lineNumber ) )\n",
    "            print( vError )\n",
    "            print( '' )\n",
    "            \n",
    "        except Exception as e:\n",
    "            print( 'Внезапная ошибка на строке P{. Вот что известно:'.format( lineNumber ) )\n",
    "            print( e )        \n",
    "        \n",
    "        lineNumber += 1\n",
    "\n",
    "print( totalSum )"
   ]
  }
 ],
 "metadata": {
  "kernelspec": {
   "display_name": "Python 3",
   "language": "python",
   "name": "python3"
  },
  "language_info": {
   "codemirror_mode": {
    "name": "ipython",
    "version": 3
   },
   "file_extension": ".py",
   "mimetype": "text/x-python",
   "name": "python",
   "nbconvert_exporter": "python",
   "pygments_lexer": "ipython3",
   "version": "3.9.5"
  }
 },
 "nbformat": 4,
 "nbformat_minor": 2
}
